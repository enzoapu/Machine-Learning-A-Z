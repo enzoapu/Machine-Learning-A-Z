{
 "cells": [
  {
   "cell_type": "markdown",
   "metadata": {},
   "source": [
    "# 核函數支持向量機 Kernel SVM"
   ]
  },
  {
   "cell_type": "markdown",
   "metadata": {},
   "source": [
    "這一章節將介紹核函數/核技巧來解決更複雜的問題，分為以下三個部分:\n",
    "1. 當數據在二維空間中是線性不可分的，我們可以將數據投射到更高維度的空間當中，使得投射的結果在更高維度的空間當中是線性可分的\n",
    "2. 如何使用核函數/核技巧來實際的解決/算出分類的界線\n",
    "3. 介紹幾種最常用的核函數\n",
    "\n",
    "![not linearly separable](not linearly separable.png)"
   ]
  },
  {
   "cell_type": "markdown",
   "metadata": {},
   "source": [
    "## Mapping to a Higher Dimension\n",
    "\n",
    "原本一維空間中，無法找到一個點將數據分類，但透過函數畫出一條拋物線，並把數據投射上去，就可以在二維空間中找到一條線將數據分類了\n",
    "![higher dimension](higher dimension.png)\n",
    "\n",
    "現在在二維空間中增加一個維度Z，使得原本線性不可分的數據，可被一個超平面(在三維空間中就是一個平面)給分開，這個超平面就是我們找到的分類器\n",
    "![2d to 3d](2d to 3d.png)\n",
    "\n",
    "藉由三維空間的兩類數據對超平面的反投射，可找出在數據平面上(二維)的分類邊界\n",
    "![back projection](back projection.png)\n",
    "\n",
    "- 因為從低維到高維，又從高維到低維的過程繁鎖，以計算的角度來說是相當耗時間、耗內存的(速度慢)\n",
    "- 所以我們引入一個核函數/核技巧來應對這些非線性SVM的分類算法，巧妙地繞過低高低的過程，也可以達到同樣的效果"
   ]
  },
  {
   "cell_type": "markdown",
   "metadata": {},
   "source": [
    "## The Gaussian RBF Kernel\n",
    "\n",
    "\n",
    "搭配著圖來看這個公式，Z軸的值對應的就是XY平面的每個點通過高斯核函數的值\n",
    "- x和l都是N維空間中的向量，也代表為N維空間中的兩個點\n",
    "    - l點其實就是(0,0)這個點；x點就是平面中的任一點\n",
    "    - 公式中兩點相減的平方就是計算距離\n",
    "    - 兩點距離越遠取平方就會越大，指數為負的情況，就會讓結果越小(σ為常數)\n",
    "    - 因此在(0,0)這個點可以取到最大值是1；距離(0,0)越遠的點值就越小(趨近於零)\n",
    "- σ(sigma)為一常數，控制這個圈的半徑(分類邊界)\n",
    "    - 當σ越大時，可讓越多點的結果接近1；當σ越小時，可讓越多點的結果接近0\n",
    "    - 這個參數就是高斯核函數要擬合出來的值\n",
    "![rbf kernel](rbf kernel.png)\n",
    "![rbf kernel2](rbf kernel2.png)\n",
    "\n",
    "當我們遇到比較複雜的問題，也是可以用高斯核函數來處理\n",
    "- 其實就是運用兩個高斯核函數來做集合\n",
    "- 以下是較易於理解的範例，實際上精確的方程應會在每個高斯核函數前乘上一個係數，最後再加上一個常數\n",
    "![rbf kernel3](rbf kernel3.png)"
   ]
  },
  {
   "cell_type": "markdown",
   "metadata": {},
   "source": [
    "## Types of Kernel Functions\n",
    "\n",
    "這邊可以看到其他常用的核函數\n",
    "- 線性SVM其實就是多項式核函數的一個特例(d=1)\n",
    "![kernel functions](kernel functions.png)"
   ]
  },
  {
   "cell_type": "markdown",
   "metadata": {},
   "source": [
    "## 同樣拿Social_Network_Ads這個數據集來做訓練&預測，程式碼幾乎與上一章節(SVM)相同"
   ]
  },
  {
   "cell_type": "code",
   "execution_count": 1,
   "metadata": {
    "collapsed": true
   },
   "outputs": [],
   "source": [
    "# Kernel SVM\n",
    "\n",
    "# Importing the libraries\n",
    "import numpy as np\n",
    "import matplotlib.pyplot as plt\n",
    "import pandas as pd\n",
    "\n",
    "# Importing the dataset\n",
    "dataset = pd.read_csv('Social_Network_Ads.csv')\n",
    "X = dataset.iloc[:, [2, 3]].values\n",
    "y = dataset.iloc[:, 4].values\n",
    "\n",
    "# Splitting the dataset into the Training set and Test set\n",
    "from sklearn.model_selection import train_test_split\n",
    "X_train, X_test, y_train, y_test = train_test_split(X, y, test_size = 0.25, random_state = 0)\n",
    "\n",
    "# Feature Scaling\n",
    "from sklearn.preprocessing import StandardScaler\n",
    "sc = StandardScaler()\n",
    "X_train = sc.fit_transform(X_train)\n",
    "X_test = sc.transform(X_test)"
   ]
  },
  {
   "cell_type": "markdown",
   "metadata": {},
   "source": [
    "### 差別在於這邊選擇的核函數為'rbf'，也就是高斯核函數\n",
    "若把kernel換成'poly'，就需要指定degree這個參數，也就是多項式核的項數"
   ]
  },
  {
   "cell_type": "code",
   "execution_count": 2,
   "metadata": {},
   "outputs": [
    {
     "data": {
      "text/plain": [
       "SVC(C=1.0, cache_size=200, class_weight=None, coef0=0.0,\n",
       "  decision_function_shape='ovr', degree=3, gamma='auto', kernel='rbf',\n",
       "  max_iter=-1, probability=False, random_state=0, shrinking=True,\n",
       "  tol=0.001, verbose=False)"
      ]
     },
     "execution_count": 2,
     "metadata": {},
     "output_type": "execute_result"
    }
   ],
   "source": [
    "# Fitting classifier to the Training set\n",
    "from sklearn.svm import SVC\n",
    "classifier = SVC(kernel = 'rbf', random_state = 0)\n",
    "classifier.fit(X_train, y_train)"
   ]
  },
  {
   "cell_type": "code",
   "execution_count": 3,
   "metadata": {
    "collapsed": true
   },
   "outputs": [],
   "source": [
    "# Predicting the Test set results\n",
    "y_pred = classifier.predict(X_test)"
   ]
  },
  {
   "cell_type": "code",
   "execution_count": 4,
   "metadata": {
    "collapsed": true
   },
   "outputs": [],
   "source": [
    "# Making the Confusion Matrix\n",
    "from sklearn.metrics import confusion_matrix\n",
    "cm = confusion_matrix(y_test, y_pred)"
   ]
  },
  {
   "cell_type": "markdown",
   "metadata": {},
   "source": [
    "透過混淆矩陣來評估此分類器的性能，發現高斯核函數的分類結果是正確率較高的"
   ]
  },
  {
   "cell_type": "code",
   "execution_count": 5,
   "metadata": {},
   "outputs": [
    {
     "data": {
      "text/plain": [
       "array([[64,  4],\n",
       "       [ 3, 29]])"
      ]
     },
     "execution_count": 5,
     "metadata": {},
     "output_type": "execute_result"
    }
   ],
   "source": [
    "cm"
   ]
  },
  {
   "cell_type": "code",
   "execution_count": 6,
   "metadata": {},
   "outputs": [
    {
     "data": {
      "image/png": "[encoded data removed]",
      "text/plain": [
       "<matplotlib.figure.Figure at 0x1a11f1bcc0>"
      ]
     },
     "metadata": {},
     "output_type": "display_data"
    }
   ],
   "source": [
    "# Visualising the Training set results\n",
    "from matplotlib.colors import ListedColormap\n",
    "X_set, y_set = X_train, y_train\n",
    "X1, X2 = np.meshgrid(np.arange(start = X_set[:, 0].min() - 1, stop = X_set[:, 0].max() + 1, step = 0.01),\n",
    "                     np.arange(start = X_set[:, 1].min() - 1, stop = X_set[:, 1].max() + 1, step = 0.01))\n",
    "plt.contourf(X1, X2, classifier.predict(np.array([X1.ravel(), X2.ravel()]).T).reshape(X1.shape),\n",
    "             alpha = 0.75, cmap = ListedColormap(('red', 'green')))\n",
    "plt.xlim(X1.min(), X1.max())\n",
    "plt.ylim(X2.min(), X2.max())\n",
    "for i, j in enumerate(np.unique(y_set)):\n",
    "    plt.scatter(X_set[y_set == j, 0], X_set[y_set == j, 1],\n",
    "                c = ListedColormap(('orange', 'blue'))(i), label = j)\n",
    "plt.title('Classifier (Training set)')\n",
    "plt.xlabel('Age')\n",
    "plt.ylabel('Estimated Salary')\n",
    "plt.legend()\n",
    "plt.show()"
   ]
  },
  {
   "cell_type": "code",
   "execution_count": 7,
   "metadata": {},
   "outputs": [
    {
     "data": {
      "image/png": "[encoded data removed]",
      "text/plain": [
       "<matplotlib.figure.Figure at 0x1a1ef69e10>"
      ]
     },
     "metadata": {},
     "output_type": "display_data"
    }
   ],
   "source": [
    "# Visualising the Test set results\n",
    "from matplotlib.colors import ListedColormap\n",
    "X_set, y_set = X_test, y_test\n",
    "X1, X2 = np.meshgrid(np.arange(start = X_set[:, 0].min() - 1, stop = X_set[:, 0].max() + 1, step = 0.01),\n",
    "                     np.arange(start = X_set[:, 1].min() - 1, stop = X_set[:, 1].max() + 1, step = 0.01))\n",
    "plt.contourf(X1, X2, classifier.predict(np.array([X1.ravel(), X2.ravel()]).T).reshape(X1.shape),\n",
    "             alpha = 0.75, cmap = ListedColormap(('red', 'green')))\n",
    "plt.xlim(X1.min(), X1.max())\n",
    "plt.ylim(X2.min(), X2.max())\n",
    "for i, j in enumerate(np.unique(y_set)):\n",
    "    plt.scatter(X_set[y_set == j, 0], X_set[y_set == j, 1],\n",
    "                c = ListedColormap(('orange', 'blue'))(i), label = j)\n",
    "plt.title('Classifier (Test set)')\n",
    "plt.xlabel('Age')\n",
    "plt.ylabel('Estimated Salary')\n",
    "plt.legend()\n",
    "plt.show()"
   ]
  }
 ],
 "metadata": {
  "kernelspec": {
   "display_name": "Python 3",
   "language": "python",
   "name": "python3"
  },
  "language_info": {
   "codemirror_mode": {
    "name": "ipython",
    "version": 3
   },
   "file_extension": ".py",
   "mimetype": "text/x-python",
   "name": "python",
   "nbconvert_exporter": "python",
   "pygments_lexer": "ipython3",
   "version": "3.6.3"
  }
 },
 "nbformat": 4,
 "nbformat_minor": 2
}
