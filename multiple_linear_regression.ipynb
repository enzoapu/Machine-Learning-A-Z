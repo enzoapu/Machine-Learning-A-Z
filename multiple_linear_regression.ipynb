{
 "cells": [
  {
   "cell_type": "markdown",
   "metadata": {},
   "source": [
    "# 多元線性回歸 Multiple Linear Regression"
   ]
  },
  {
   "cell_type": "markdown",
   "metadata": {},
   "source": [
    "## 要做多元線性回歸有 5 個限定條件：\n",
    "1. Linearity 線性\n",
    "2. Homoscedasticity 同方差性\n",
    "3. Multivariate Normality 多元正態分佈\n",
    "4. Independence of errors 誤差獨立\n",
    "5. Lack of multicollinearity 無多重共線性"
   ]
  },
  {
   "cell_type": "code",
   "execution_count": 2,
   "metadata": {
    "collapsed": true
   },
   "outputs": [],
   "source": [
    "# Importing the libraries\n",
    "import numpy as np\n",
    "import matplotlib.pyplot as plt\n",
    "import pandas as pd"
   ]
  },
  {
   "cell_type": "markdown",
   "metadata": {},
   "source": [
    "### 投資人想知道哪間新創公司是會賺錢的"
   ]
  },
  {
   "cell_type": "code",
   "execution_count": 62,
   "metadata": {
    "collapsed": true
   },
   "outputs": [],
   "source": [
    "# Importing the dataset\n",
    "dataset = pd.read_csv('50_Startups.csv')\n",
    "X = dataset.iloc[:, :-1].values #研發開支、行政開支、行銷開支、公司地點\n",
    "y = dataset.iloc[:, 4].values #獲利(收益)"
   ]
  },
  {
   "cell_type": "code",
   "execution_count": 4,
   "metadata": {},
   "outputs": [
    {
     "data": {
      "text/html": [
       "<div>\n",
       "<style>\n",
       "    .dataframe thead tr:only-child th {\n",
       "        text-align: right;\n",
       "    }\n",
       "\n",
       "    .dataframe thead th {\n",
       "        text-align: left;\n",
       "    }\n",
       "\n",
       "    .dataframe tbody tr th {\n",
       "        vertical-align: top;\n",
       "    }\n",
       "</style>\n",
       "<table border=\"1\" class=\"dataframe\">\n",
       "  <thead>\n",
       "    <tr style=\"text-align: right;\">\n",
       "      <th></th>\n",
       "      <th>R&amp;D Spend</th>\n",
       "      <th>Administration</th>\n",
       "      <th>Marketing Spend</th>\n",
       "      <th>State</th>\n",
       "      <th>Profit</th>\n",
       "    </tr>\n",
       "  </thead>\n",
       "  <tbody>\n",
       "    <tr>\n",
       "      <th>0</th>\n",
       "      <td>165349.20</td>\n",
       "      <td>136897.80</td>\n",
       "      <td>471784.10</td>\n",
       "      <td>New York</td>\n",
       "      <td>192261.83</td>\n",
       "    </tr>\n",
       "    <tr>\n",
       "      <th>1</th>\n",
       "      <td>162597.70</td>\n",
       "      <td>151377.59</td>\n",
       "      <td>443898.53</td>\n",
       "      <td>California</td>\n",
       "      <td>191792.06</td>\n",
       "    </tr>\n",
       "    <tr>\n",
       "      <th>2</th>\n",
       "      <td>153441.51</td>\n",
       "      <td>101145.55</td>\n",
       "      <td>407934.54</td>\n",
       "      <td>Florida</td>\n",
       "      <td>191050.39</td>\n",
       "    </tr>\n",
       "    <tr>\n",
       "      <th>3</th>\n",
       "      <td>144372.41</td>\n",
       "      <td>118671.85</td>\n",
       "      <td>383199.62</td>\n",
       "      <td>New York</td>\n",
       "      <td>182901.99</td>\n",
       "    </tr>\n",
       "    <tr>\n",
       "      <th>4</th>\n",
       "      <td>142107.34</td>\n",
       "      <td>91391.77</td>\n",
       "      <td>366168.42</td>\n",
       "      <td>Florida</td>\n",
       "      <td>166187.94</td>\n",
       "    </tr>\n",
       "  </tbody>\n",
       "</table>\n",
       "</div>"
      ],
      "text/plain": [
       "   R&D Spend  Administration  Marketing Spend       State     Profit\n",
       "0  165349.20       136897.80        471784.10    New York  192261.83\n",
       "1  162597.70       151377.59        443898.53  California  191792.06\n",
       "2  153441.51       101145.55        407934.54     Florida  191050.39\n",
       "3  144372.41       118671.85        383199.62    New York  182901.99\n",
       "4  142107.34        91391.77        366168.42     Florida  166187.94"
      ]
     },
     "execution_count": 4,
     "metadata": {},
     "output_type": "execute_result"
    }
   ],
   "source": [
    "dataset.head()"
   ]
  },
  {
   "cell_type": "markdown",
   "metadata": {},
   "source": [
    "### 分類數據與虛擬變量\n",
    "* 這幾個自變量中，State不具有連續，也無法進行比較(排序)，屬於\"分類數據\"\n",
    "* 我們可將分類數據轉換成\"虛擬變量\"，一般習慣用0和1來表示"
   ]
  },
  {
   "cell_type": "code",
   "execution_count": 63,
   "metadata": {
    "collapsed": true
   },
   "outputs": [],
   "source": [
    "# Encoding categorical data\n",
    "from sklearn.preprocessing import LabelEncoder, OneHotEncoder\n",
    "labelencoder_X = LabelEncoder()\n",
    "X[:, 3] = labelencoder_X.fit_transform(X[:, 3]) #把State這個自變量轉換成分類數據"
   ]
  },
  {
   "cell_type": "code",
   "execution_count": 64,
   "metadata": {},
   "outputs": [
    {
     "data": {
      "text/plain": [
       "array([2, 0, 1, 2, 1, 2, 0, 1, 2, 0], dtype=object)"
      ]
     },
     "execution_count": 64,
     "metadata": {},
     "output_type": "execute_result"
    }
   ],
   "source": [
    "X[:10,3] #看一下X現在長怎樣(前十筆)"
   ]
  },
  {
   "cell_type": "code",
   "execution_count": 65,
   "metadata": {
    "collapsed": true
   },
   "outputs": [],
   "source": [
    "# Encoding the Independent Variable\n",
    "onehotencoder = OneHotEncoder(categorical_features = [3]) #指定State這個自變量\n",
    "X = onehotencoder.fit_transform(X).toarray() #依照此自變量的分類數，產生相對個數的虛擬變量"
   ]
  },
  {
   "cell_type": "code",
   "execution_count": 68,
   "metadata": {},
   "outputs": [
    {
     "data": {
      "text/plain": [
       "array([[  0.00000000e+00,   1.00000000e+00,   1.65349200e+05],\n",
       "       [  0.00000000e+00,   0.00000000e+00,   1.62597700e+05],\n",
       "       [  1.00000000e+00,   0.00000000e+00,   1.53441510e+05],\n",
       "       [  0.00000000e+00,   1.00000000e+00,   1.44372410e+05],\n",
       "       [  1.00000000e+00,   0.00000000e+00,   1.42107340e+05],\n",
       "       [  0.00000000e+00,   1.00000000e+00,   1.31876900e+05],\n",
       "       [  0.00000000e+00,   0.00000000e+00,   1.34615460e+05],\n",
       "       [  1.00000000e+00,   0.00000000e+00,   1.30298130e+05],\n",
       "       [  0.00000000e+00,   1.00000000e+00,   1.20542520e+05],\n",
       "       [  0.00000000e+00,   0.00000000e+00,   1.23334880e+05]])"
      ]
     },
     "execution_count": 68,
     "metadata": {},
     "output_type": "execute_result"
    }
   ],
   "source": [
    "X[:10,0:3] #看一下X現在長怎樣(前十筆)"
   ]
  },
  {
   "cell_type": "markdown",
   "metadata": {},
   "source": [
    "### 虛擬變量陷阱\n",
    "* 為避免自變量當中有多重共線性(任一自變量不能是其他自變量的線性組合)，例如：D2=1-D1就是顯然明確的關係\n",
    "* 參數過多會有過度擬合的問題，且參數夠用就好了(n-1即可表示所有情況)\n",
    "#### 小結：虛擬變量有n個，我們就只需要用到n-1個即可"
   ]
  },
  {
   "cell_type": "markdown",
   "metadata": {},
   "source": [
    "![dummy variable trap](dummy_variable_trap.png)"
   ]
  },
  {
   "cell_type": "code",
   "execution_count": 67,
   "metadata": {
    "collapsed": true
   },
   "outputs": [],
   "source": [
    "# Avoiding the Dummy Variable Trap\n",
    "X = X[:, 1:] #三個虛擬變量，要移除哪一個都可以"
   ]
  },
  {
   "cell_type": "code",
   "execution_count": 69,
   "metadata": {
    "collapsed": true
   },
   "outputs": [],
   "source": [
    "# Splitting the dataset into the Training set and Test set\n",
    "from sklearn.model_selection import train_test_split\n",
    "X_train, X_test, y_train, y_test = train_test_split(X, y, test_size = 0.2, random_state = 0)"
   ]
  },
  {
   "cell_type": "markdown",
   "metadata": {},
   "source": [
    "### 接下來跟簡單線性回歸一樣，只是多了幾個自變量"
   ]
  },
  {
   "cell_type": "code",
   "execution_count": 70,
   "metadata": {},
   "outputs": [
    {
     "data": {
      "text/plain": [
       "LinearRegression(copy_X=True, fit_intercept=True, n_jobs=1, normalize=False)"
      ]
     },
     "execution_count": 70,
     "metadata": {},
     "output_type": "execute_result"
    }
   ],
   "source": [
    "# Fitting Multiple Linear Regression to the Training set\n",
    "from sklearn.linear_model import LinearRegression\n",
    "regr = LinearRegression()\n",
    "regr.fit(X_train, y_train)"
   ]
  },
  {
   "cell_type": "code",
   "execution_count": 71,
   "metadata": {
    "collapsed": true
   },
   "outputs": [],
   "source": [
    "# Predicting the Test set results\n",
    "y_pred = regr.predict(X_test)"
   ]
  },
  {
   "cell_type": "markdown",
   "metadata": {},
   "source": [
    "### 五種方法讓我們找到一個好模型\n",
    "* All-in\n",
    "* Backward Elimination 反向淘汰 (推)\n",
    "* Forward Selection 順向選擇 \n",
    "* Bidirectional Elimination 雙向淘汰\n",
    "* Score Comparison 信息量比較\n",
    "\n",
    "### 反向淘汰\n",
    "* 先定義\"顯著性門檻\"，一開始先用All-in的方式把所有自變量進行擬合\n",
    "* 透過統計的得到每個自變量在模型下的P值，P值越高代表對此模型的顯著性越低\n",
    "* 每次淘汰掉P值最高且大於顯著性門檻的自變量，最後剩下的組合即是反向淘汰找出的最佳模型"
   ]
  },
  {
   "cell_type": "markdown",
   "metadata": {},
   "source": [
    "![backward_elimination](backward_elimination.png)"
   ]
  },
  {
   "cell_type": "markdown",
   "metadata": {},
   "source": [
    "### 多元線性回歸函數中的常數像其實也是一個參數，可以當做 y = b0*1 + b1*x1 + b2*x2 + ... \n",
    "* 所以我們要在X_train中增加一行(第一欄)都是1的矩陣\n",
    "* np.append函數把values加到arr後面，axis即增加行"
   ]
  },
  {
   "cell_type": "code",
   "execution_count": 72,
   "metadata": {
    "collapsed": true
   },
   "outputs": [],
   "source": [
    "# Building the optimal model using Backward Elimination\n",
    "import statsmodels.formula.api as sm\n",
    "X_train = np.append(arr = np.ones((40, 1)).astype(int), values = X_train, axis = 1)"
   ]
  },
  {
   "cell_type": "markdown",
   "metadata": {},
   "source": [
    "### 逐步地將不同自變量組合進行擬合，並查看不同組合產生的模型表現"
   ]
  },
  {
   "cell_type": "code",
   "execution_count": 75,
   "metadata": {},
   "outputs": [
    {
     "data": {
      "text/html": [
       "<table class=\"simpletable\">\n",
       "<caption>OLS Regression Results</caption>\n",
       "<tr>\n",
       "  <th>Dep. Variable:</th>            <td>y</td>        <th>  R-squared:         </th> <td>   0.950</td>\n",
       "</tr>\n",
       "<tr>\n",
       "  <th>Model:</th>                   <td>OLS</td>       <th>  Adj. R-squared:    </th> <td>   0.943</td>\n",
       "</tr>\n",
       "<tr>\n",
       "  <th>Method:</th>             <td>Least Squares</td>  <th>  F-statistic:       </th> <td>   129.7</td>\n",
       "</tr>\n",
       "<tr>\n",
       "  <th>Date:</th>             <td>Fri, 27 Apr 2018</td> <th>  Prob (F-statistic):</th> <td>3.91e-21</td>\n",
       "</tr>\n",
       "<tr>\n",
       "  <th>Time:</th>                 <td>00:02:57</td>     <th>  Log-Likelihood:    </th> <td> -421.10</td>\n",
       "</tr>\n",
       "<tr>\n",
       "  <th>No. Observations:</th>      <td>    40</td>      <th>  AIC:               </th> <td>   854.2</td>\n",
       "</tr>\n",
       "<tr>\n",
       "  <th>Df Residuals:</th>          <td>    34</td>      <th>  BIC:               </th> <td>   864.3</td>\n",
       "</tr>\n",
       "<tr>\n",
       "  <th>Df Model:</th>              <td>     5</td>      <th>                     </th>     <td> </td>   \n",
       "</tr>\n",
       "<tr>\n",
       "  <th>Covariance Type:</th>      <td>nonrobust</td>    <th>                     </th>     <td> </td>   \n",
       "</tr>\n",
       "</table>\n",
       "<table class=\"simpletable\">\n",
       "<tr>\n",
       "    <td></td>       <th>coef</th>     <th>std err</th>      <th>t</th>      <th>P>|t|</th>  <th>[0.025</th>    <th>0.975]</th>  \n",
       "</tr>\n",
       "<tr>\n",
       "  <th>const</th> <td> 4.255e+04</td> <td> 8358.538</td> <td>    5.091</td> <td> 0.000</td> <td> 2.56e+04</td> <td> 5.95e+04</td>\n",
       "</tr>\n",
       "<tr>\n",
       "  <th>x1</th>    <td> -959.2842</td> <td> 4038.108</td> <td>   -0.238</td> <td> 0.814</td> <td>-9165.706</td> <td> 7247.138</td>\n",
       "</tr>\n",
       "<tr>\n",
       "  <th>x2</th>    <td>  699.3691</td> <td> 3661.563</td> <td>    0.191</td> <td> 0.850</td> <td>-6741.822</td> <td> 8140.560</td>\n",
       "</tr>\n",
       "<tr>\n",
       "  <th>x3</th>    <td>    0.7735</td> <td>    0.055</td> <td>   14.025</td> <td> 0.000</td> <td>    0.661</td> <td>    0.886</td>\n",
       "</tr>\n",
       "<tr>\n",
       "  <th>x4</th>    <td>    0.0329</td> <td>    0.066</td> <td>    0.495</td> <td> 0.624</td> <td>   -0.102</td> <td>    0.168</td>\n",
       "</tr>\n",
       "<tr>\n",
       "  <th>x5</th>    <td>    0.0366</td> <td>    0.019</td> <td>    1.884</td> <td> 0.068</td> <td>   -0.003</td> <td>    0.076</td>\n",
       "</tr>\n",
       "</table>\n",
       "<table class=\"simpletable\">\n",
       "<tr>\n",
       "  <th>Omnibus:</th>       <td>15.823</td> <th>  Durbin-Watson:     </th> <td>   2.468</td>\n",
       "</tr>\n",
       "<tr>\n",
       "  <th>Prob(Omnibus):</th> <td> 0.000</td> <th>  Jarque-Bera (JB):  </th> <td>  23.231</td>\n",
       "</tr>\n",
       "<tr>\n",
       "  <th>Skew:</th>          <td>-1.094</td> <th>  Prob(JB):          </th> <td>9.03e-06</td>\n",
       "</tr>\n",
       "<tr>\n",
       "  <th>Kurtosis:</th>      <td> 6.025</td> <th>  Cond. No.          </th> <td>1.49e+06</td>\n",
       "</tr>\n",
       "</table>"
      ],
      "text/plain": [
       "<class 'statsmodels.iolib.summary.Summary'>\n",
       "\"\"\"\n",
       "                            OLS Regression Results                            \n",
       "==============================================================================\n",
       "Dep. Variable:                      y   R-squared:                       0.950\n",
       "Model:                            OLS   Adj. R-squared:                  0.943\n",
       "Method:                 Least Squares   F-statistic:                     129.7\n",
       "Date:                Fri, 27 Apr 2018   Prob (F-statistic):           3.91e-21\n",
       "Time:                        00:02:57   Log-Likelihood:                -421.10\n",
       "No. Observations:                  40   AIC:                             854.2\n",
       "Df Residuals:                      34   BIC:                             864.3\n",
       "Df Model:                           5                                         \n",
       "Covariance Type:            nonrobust                                         \n",
       "==============================================================================\n",
       "                 coef    std err          t      P>|t|      [0.025      0.975]\n",
       "------------------------------------------------------------------------------\n",
       "const       4.255e+04   8358.538      5.091      0.000    2.56e+04    5.95e+04\n",
       "x1          -959.2842   4038.108     -0.238      0.814   -9165.706    7247.138\n",
       "x2           699.3691   3661.563      0.191      0.850   -6741.822    8140.560\n",
       "x3             0.7735      0.055     14.025      0.000       0.661       0.886\n",
       "x4             0.0329      0.066      0.495      0.624      -0.102       0.168\n",
       "x5             0.0366      0.019      1.884      0.068      -0.003       0.076\n",
       "==============================================================================\n",
       "Omnibus:                       15.823   Durbin-Watson:                   2.468\n",
       "Prob(Omnibus):                  0.000   Jarque-Bera (JB):               23.231\n",
       "Skew:                          -1.094   Prob(JB):                     9.03e-06\n",
       "Kurtosis:                       6.025   Cond. No.                     1.49e+06\n",
       "==============================================================================\n",
       "\n",
       "Warnings:\n",
       "[1] Standard Errors assume that the covariance matrix of the errors is correctly specified.\n",
       "[2] The condition number is large, 1.49e+06. This might indicate that there are\n",
       "strong multicollinearity or other numerical problems.\n",
       "\"\"\""
      ]
     },
     "execution_count": 75,
     "metadata": {},
     "output_type": "execute_result"
    }
   ],
   "source": [
    "X_opt = X_train [:, [0, 1, 2, 3, 4, 5]]\n",
    "regressor_OLS = sm.OLS(endog = y_train, exog = X_opt).fit()\n",
    "regressor_OLS.summary() #可以看到x2有最高的P值，且高於我們定的門檻值(SL=0.05)"
   ]
  },
  {
   "cell_type": "code",
   "execution_count": 76,
   "metadata": {},
   "outputs": [
    {
     "data": {
      "text/html": [
       "<table class=\"simpletable\">\n",
       "<caption>OLS Regression Results</caption>\n",
       "<tr>\n",
       "  <th>Dep. Variable:</th>            <td>y</td>        <th>  R-squared:         </th> <td>   0.950</td>\n",
       "</tr>\n",
       "<tr>\n",
       "  <th>Model:</th>                   <td>OLS</td>       <th>  Adj. R-squared:    </th> <td>   0.944</td>\n",
       "</tr>\n",
       "<tr>\n",
       "  <th>Method:</th>             <td>Least Squares</td>  <th>  F-statistic:       </th> <td>   166.7</td>\n",
       "</tr>\n",
       "<tr>\n",
       "  <th>Date:</th>             <td>Fri, 27 Apr 2018</td> <th>  Prob (F-statistic):</th> <td>2.87e-22</td>\n",
       "</tr>\n",
       "<tr>\n",
       "  <th>Time:</th>                 <td>00:04:18</td>     <th>  Log-Likelihood:    </th> <td> -421.12</td>\n",
       "</tr>\n",
       "<tr>\n",
       "  <th>No. Observations:</th>      <td>    40</td>      <th>  AIC:               </th> <td>   852.2</td>\n",
       "</tr>\n",
       "<tr>\n",
       "  <th>Df Residuals:</th>          <td>    35</td>      <th>  BIC:               </th> <td>   860.7</td>\n",
       "</tr>\n",
       "<tr>\n",
       "  <th>Df Model:</th>              <td>     4</td>      <th>                     </th>     <td> </td>   \n",
       "</tr>\n",
       "<tr>\n",
       "  <th>Covariance Type:</th>      <td>nonrobust</td>    <th>                     </th>     <td> </td>   \n",
       "</tr>\n",
       "</table>\n",
       "<table class=\"simpletable\">\n",
       "<tr>\n",
       "    <td></td>       <th>coef</th>     <th>std err</th>      <th>t</th>      <th>P>|t|</th>  <th>[0.025</th>    <th>0.975]</th>  \n",
       "</tr>\n",
       "<tr>\n",
       "  <th>const</th> <td> 4.292e+04</td> <td> 8020.397</td> <td>    5.352</td> <td> 0.000</td> <td> 2.66e+04</td> <td> 5.92e+04</td>\n",
       "</tr>\n",
       "<tr>\n",
       "  <th>x1</th>    <td>-1272.1608</td> <td> 3639.780</td> <td>   -0.350</td> <td> 0.729</td> <td>-8661.308</td> <td> 6116.986</td>\n",
       "</tr>\n",
       "<tr>\n",
       "  <th>x2</th>    <td>    0.7754</td> <td>    0.053</td> <td>   14.498</td> <td> 0.000</td> <td>    0.667</td> <td>    0.884</td>\n",
       "</tr>\n",
       "<tr>\n",
       "  <th>x3</th>    <td>    0.0319</td> <td>    0.065</td> <td>    0.488</td> <td> 0.629</td> <td>   -0.101</td> <td>    0.165</td>\n",
       "</tr>\n",
       "<tr>\n",
       "  <th>x4</th>    <td>    0.0363</td> <td>    0.019</td> <td>    1.902</td> <td> 0.065</td> <td>   -0.002</td> <td>    0.075</td>\n",
       "</tr>\n",
       "</table>\n",
       "<table class=\"simpletable\">\n",
       "<tr>\n",
       "  <th>Omnibus:</th>       <td>16.074</td> <th>  Durbin-Watson:     </th> <td>   2.467</td>\n",
       "</tr>\n",
       "<tr>\n",
       "  <th>Prob(Omnibus):</th> <td> 0.000</td> <th>  Jarque-Bera (JB):  </th> <td>  24.553</td>\n",
       "</tr>\n",
       "<tr>\n",
       "  <th>Skew:</th>          <td>-1.086</td> <th>  Prob(JB):          </th> <td>4.66e-06</td>\n",
       "</tr>\n",
       "<tr>\n",
       "  <th>Kurtosis:</th>      <td> 6.164</td> <th>  Cond. No.          </th> <td>1.43e+06</td>\n",
       "</tr>\n",
       "</table>"
      ],
      "text/plain": [
       "<class 'statsmodels.iolib.summary.Summary'>\n",
       "\"\"\"\n",
       "                            OLS Regression Results                            \n",
       "==============================================================================\n",
       "Dep. Variable:                      y   R-squared:                       0.950\n",
       "Model:                            OLS   Adj. R-squared:                  0.944\n",
       "Method:                 Least Squares   F-statistic:                     166.7\n",
       "Date:                Fri, 27 Apr 2018   Prob (F-statistic):           2.87e-22\n",
       "Time:                        00:04:18   Log-Likelihood:                -421.12\n",
       "No. Observations:                  40   AIC:                             852.2\n",
       "Df Residuals:                      35   BIC:                             860.7\n",
       "Df Model:                           4                                         \n",
       "Covariance Type:            nonrobust                                         \n",
       "==============================================================================\n",
       "                 coef    std err          t      P>|t|      [0.025      0.975]\n",
       "------------------------------------------------------------------------------\n",
       "const       4.292e+04   8020.397      5.352      0.000    2.66e+04    5.92e+04\n",
       "x1         -1272.1608   3639.780     -0.350      0.729   -8661.308    6116.986\n",
       "x2             0.7754      0.053     14.498      0.000       0.667       0.884\n",
       "x3             0.0319      0.065      0.488      0.629      -0.101       0.165\n",
       "x4             0.0363      0.019      1.902      0.065      -0.002       0.075\n",
       "==============================================================================\n",
       "Omnibus:                       16.074   Durbin-Watson:                   2.467\n",
       "Prob(Omnibus):                  0.000   Jarque-Bera (JB):               24.553\n",
       "Skew:                          -1.086   Prob(JB):                     4.66e-06\n",
       "Kurtosis:                       6.164   Cond. No.                     1.43e+06\n",
       "==============================================================================\n",
       "\n",
       "Warnings:\n",
       "[1] Standard Errors assume that the covariance matrix of the errors is correctly specified.\n",
       "[2] The condition number is large, 1.43e+06. This might indicate that there are\n",
       "strong multicollinearity or other numerical problems.\n",
       "\"\"\""
      ]
     },
     "execution_count": 76,
     "metadata": {},
     "output_type": "execute_result"
    }
   ],
   "source": [
    "X_opt = X_train [:, [0, 1, 3, 4, 5]] #把x2踢除\n",
    "regressor_OLS = sm.OLS(endog = y_train, exog = X_opt).fit()\n",
    "regressor_OLS.summary()"
   ]
  },
  {
   "cell_type": "code",
   "execution_count": 77,
   "metadata": {},
   "outputs": [
    {
     "data": {
      "text/html": [
       "<table class=\"simpletable\">\n",
       "<caption>OLS Regression Results</caption>\n",
       "<tr>\n",
       "  <th>Dep. Variable:</th>            <td>y</td>        <th>  R-squared:         </th> <td>   0.950</td>\n",
       "</tr>\n",
       "<tr>\n",
       "  <th>Model:</th>                   <td>OLS</td>       <th>  Adj. R-squared:    </th> <td>   0.946</td>\n",
       "</tr>\n",
       "<tr>\n",
       "  <th>Method:</th>             <td>Least Squares</td>  <th>  F-statistic:       </th> <td>   227.8</td>\n",
       "</tr>\n",
       "<tr>\n",
       "  <th>Date:</th>             <td>Fri, 27 Apr 2018</td> <th>  Prob (F-statistic):</th> <td>1.85e-23</td>\n",
       "</tr>\n",
       "<tr>\n",
       "  <th>Time:</th>                 <td>00:04:36</td>     <th>  Log-Likelihood:    </th> <td> -421.19</td>\n",
       "</tr>\n",
       "<tr>\n",
       "  <th>No. Observations:</th>      <td>    40</td>      <th>  AIC:               </th> <td>   850.4</td>\n",
       "</tr>\n",
       "<tr>\n",
       "  <th>Df Residuals:</th>          <td>    36</td>      <th>  BIC:               </th> <td>   857.1</td>\n",
       "</tr>\n",
       "<tr>\n",
       "  <th>Df Model:</th>              <td>     3</td>      <th>                     </th>     <td> </td>   \n",
       "</tr>\n",
       "<tr>\n",
       "  <th>Covariance Type:</th>      <td>nonrobust</td>    <th>                     </th>     <td> </td>   \n",
       "</tr>\n",
       "</table>\n",
       "<table class=\"simpletable\">\n",
       "<tr>\n",
       "    <td></td>       <th>coef</th>     <th>std err</th>      <th>t</th>      <th>P>|t|</th>  <th>[0.025</th>    <th>0.975]</th>  \n",
       "</tr>\n",
       "<tr>\n",
       "  <th>const</th> <td> 4.299e+04</td> <td> 7919.773</td> <td>    5.428</td> <td> 0.000</td> <td> 2.69e+04</td> <td> 5.91e+04</td>\n",
       "</tr>\n",
       "<tr>\n",
       "  <th>x1</th>    <td>    0.7788</td> <td>    0.052</td> <td>   15.003</td> <td> 0.000</td> <td>    0.674</td> <td>    0.884</td>\n",
       "</tr>\n",
       "<tr>\n",
       "  <th>x2</th>    <td>    0.0294</td> <td>    0.064</td> <td>    0.458</td> <td> 0.650</td> <td>   -0.101</td> <td>    0.160</td>\n",
       "</tr>\n",
       "<tr>\n",
       "  <th>x3</th>    <td>    0.0347</td> <td>    0.018</td> <td>    1.896</td> <td> 0.066</td> <td>   -0.002</td> <td>    0.072</td>\n",
       "</tr>\n",
       "</table>\n",
       "<table class=\"simpletable\">\n",
       "<tr>\n",
       "  <th>Omnibus:</th>       <td>15.557</td> <th>  Durbin-Watson:     </th> <td>   2.481</td>\n",
       "</tr>\n",
       "<tr>\n",
       "  <th>Prob(Omnibus):</th> <td> 0.000</td> <th>  Jarque-Bera (JB):  </th> <td>  22.539</td>\n",
       "</tr>\n",
       "<tr>\n",
       "  <th>Skew:</th>          <td>-1.081</td> <th>  Prob(JB):          </th> <td>1.28e-05</td>\n",
       "</tr>\n",
       "<tr>\n",
       "  <th>Kurtosis:</th>      <td> 5.974</td> <th>  Cond. No.          </th> <td>1.43e+06</td>\n",
       "</tr>\n",
       "</table>"
      ],
      "text/plain": [
       "<class 'statsmodels.iolib.summary.Summary'>\n",
       "\"\"\"\n",
       "                            OLS Regression Results                            \n",
       "==============================================================================\n",
       "Dep. Variable:                      y   R-squared:                       0.950\n",
       "Model:                            OLS   Adj. R-squared:                  0.946\n",
       "Method:                 Least Squares   F-statistic:                     227.8\n",
       "Date:                Fri, 27 Apr 2018   Prob (F-statistic):           1.85e-23\n",
       "Time:                        00:04:36   Log-Likelihood:                -421.19\n",
       "No. Observations:                  40   AIC:                             850.4\n",
       "Df Residuals:                      36   BIC:                             857.1\n",
       "Df Model:                           3                                         \n",
       "Covariance Type:            nonrobust                                         \n",
       "==============================================================================\n",
       "                 coef    std err          t      P>|t|      [0.025      0.975]\n",
       "------------------------------------------------------------------------------\n",
       "const       4.299e+04   7919.773      5.428      0.000    2.69e+04    5.91e+04\n",
       "x1             0.7788      0.052     15.003      0.000       0.674       0.884\n",
       "x2             0.0294      0.064      0.458      0.650      -0.101       0.160\n",
       "x3             0.0347      0.018      1.896      0.066      -0.002       0.072\n",
       "==============================================================================\n",
       "Omnibus:                       15.557   Durbin-Watson:                   2.481\n",
       "Prob(Omnibus):                  0.000   Jarque-Bera (JB):               22.539\n",
       "Skew:                          -1.081   Prob(JB):                     1.28e-05\n",
       "Kurtosis:                       5.974   Cond. No.                     1.43e+06\n",
       "==============================================================================\n",
       "\n",
       "Warnings:\n",
       "[1] Standard Errors assume that the covariance matrix of the errors is correctly specified.\n",
       "[2] The condition number is large, 1.43e+06. This might indicate that there are\n",
       "strong multicollinearity or other numerical problems.\n",
       "\"\"\""
      ]
     },
     "execution_count": 77,
     "metadata": {},
     "output_type": "execute_result"
    }
   ],
   "source": [
    "X_opt = X_train [:, [0, 3, 4, 5]] #把x1\n",
    "regressor_OLS = sm.OLS(endog = y_train, exog = X_opt).fit()\n",
    "regressor_OLS.summary()"
   ]
  },
  {
   "cell_type": "code",
   "execution_count": 78,
   "metadata": {},
   "outputs": [
    {
     "data": {
      "text/html": [
       "<table class=\"simpletable\">\n",
       "<caption>OLS Regression Results</caption>\n",
       "<tr>\n",
       "  <th>Dep. Variable:</th>            <td>y</td>        <th>  R-squared:         </th> <td>   0.950</td>\n",
       "</tr>\n",
       "<tr>\n",
       "  <th>Model:</th>                   <td>OLS</td>       <th>  Adj. R-squared:    </th> <td>   0.947</td>\n",
       "</tr>\n",
       "<tr>\n",
       "  <th>Method:</th>             <td>Least Squares</td>  <th>  F-statistic:       </th> <td>   349.0</td>\n",
       "</tr>\n",
       "<tr>\n",
       "  <th>Date:</th>             <td>Fri, 27 Apr 2018</td> <th>  Prob (F-statistic):</th> <td>9.65e-25</td>\n",
       "</tr>\n",
       "<tr>\n",
       "  <th>Time:</th>                 <td>00:07:50</td>     <th>  Log-Likelihood:    </th> <td> -421.30</td>\n",
       "</tr>\n",
       "<tr>\n",
       "  <th>No. Observations:</th>      <td>    40</td>      <th>  AIC:               </th> <td>   848.6</td>\n",
       "</tr>\n",
       "<tr>\n",
       "  <th>Df Residuals:</th>          <td>    37</td>      <th>  BIC:               </th> <td>   853.7</td>\n",
       "</tr>\n",
       "<tr>\n",
       "  <th>Df Model:</th>              <td>     2</td>      <th>                     </th>     <td> </td>   \n",
       "</tr>\n",
       "<tr>\n",
       "  <th>Covariance Type:</th>      <td>nonrobust</td>    <th>                     </th>     <td> </td>   \n",
       "</tr>\n",
       "</table>\n",
       "<table class=\"simpletable\">\n",
       "<tr>\n",
       "    <td></td>       <th>coef</th>     <th>std err</th>      <th>t</th>      <th>P>|t|</th>  <th>[0.025</th>    <th>0.975]</th>  \n",
       "</tr>\n",
       "<tr>\n",
       "  <th>const</th> <td> 4.635e+04</td> <td> 2971.236</td> <td>   15.598</td> <td> 0.000</td> <td> 4.03e+04</td> <td> 5.24e+04</td>\n",
       "</tr>\n",
       "<tr>\n",
       "  <th>x1</th>    <td>    0.7886</td> <td>    0.047</td> <td>   16.846</td> <td> 0.000</td> <td>    0.694</td> <td>    0.883</td>\n",
       "</tr>\n",
       "<tr>\n",
       "  <th>x2</th>    <td>    0.0326</td> <td>    0.018</td> <td>    1.860</td> <td> 0.071</td> <td>   -0.003</td> <td>    0.068</td>\n",
       "</tr>\n",
       "</table>\n",
       "<table class=\"simpletable\">\n",
       "<tr>\n",
       "  <th>Omnibus:</th>       <td>14.666</td> <th>  Durbin-Watson:     </th> <td>   2.518</td>\n",
       "</tr>\n",
       "<tr>\n",
       "  <th>Prob(Omnibus):</th> <td> 0.001</td> <th>  Jarque-Bera (JB):  </th> <td>  20.582</td>\n",
       "</tr>\n",
       "<tr>\n",
       "  <th>Skew:</th>          <td>-1.030</td> <th>  Prob(JB):          </th> <td>3.39e-05</td>\n",
       "</tr>\n",
       "<tr>\n",
       "  <th>Kurtosis:</th>      <td> 5.847</td> <th>  Cond. No.          </th> <td>4.97e+05</td>\n",
       "</tr>\n",
       "</table>"
      ],
      "text/plain": [
       "<class 'statsmodels.iolib.summary.Summary'>\n",
       "\"\"\"\n",
       "                            OLS Regression Results                            \n",
       "==============================================================================\n",
       "Dep. Variable:                      y   R-squared:                       0.950\n",
       "Model:                            OLS   Adj. R-squared:                  0.947\n",
       "Method:                 Least Squares   F-statistic:                     349.0\n",
       "Date:                Fri, 27 Apr 2018   Prob (F-statistic):           9.65e-25\n",
       "Time:                        00:07:50   Log-Likelihood:                -421.30\n",
       "No. Observations:                  40   AIC:                             848.6\n",
       "Df Residuals:                      37   BIC:                             853.7\n",
       "Df Model:                           2                                         \n",
       "Covariance Type:            nonrobust                                         \n",
       "==============================================================================\n",
       "                 coef    std err          t      P>|t|      [0.025      0.975]\n",
       "------------------------------------------------------------------------------\n",
       "const       4.635e+04   2971.236     15.598      0.000    4.03e+04    5.24e+04\n",
       "x1             0.7886      0.047     16.846      0.000       0.694       0.883\n",
       "x2             0.0326      0.018      1.860      0.071      -0.003       0.068\n",
       "==============================================================================\n",
       "Omnibus:                       14.666   Durbin-Watson:                   2.518\n",
       "Prob(Omnibus):                  0.001   Jarque-Bera (JB):               20.582\n",
       "Skew:                          -1.030   Prob(JB):                     3.39e-05\n",
       "Kurtosis:                       5.847   Cond. No.                     4.97e+05\n",
       "==============================================================================\n",
       "\n",
       "Warnings:\n",
       "[1] Standard Errors assume that the covariance matrix of the errors is correctly specified.\n",
       "[2] The condition number is large, 4.97e+05. This might indicate that there are\n",
       "strong multicollinearity or other numerical problems.\n",
       "\"\"\""
      ]
     },
     "execution_count": 78,
     "metadata": {},
     "output_type": "execute_result"
    }
   ],
   "source": [
    "X_opt = X_train [:, [0, 3, 5]] #把x2踢除\n",
    "regressor_OLS = sm.OLS(endog = y_train, exog = X_opt).fit()\n",
    "regressor_OLS.summary()"
   ]
  },
  {
   "cell_type": "code",
   "execution_count": 79,
   "metadata": {},
   "outputs": [
    {
     "data": {
      "text/html": [
       "<table class=\"simpletable\">\n",
       "<caption>OLS Regression Results</caption>\n",
       "<tr>\n",
       "  <th>Dep. Variable:</th>            <td>y</td>        <th>  R-squared:         </th> <td>   0.945</td>\n",
       "</tr>\n",
       "<tr>\n",
       "  <th>Model:</th>                   <td>OLS</td>       <th>  Adj. R-squared:    </th> <td>   0.944</td>\n",
       "</tr>\n",
       "<tr>\n",
       "  <th>Method:</th>             <td>Least Squares</td>  <th>  F-statistic:       </th> <td>   652.4</td>\n",
       "</tr>\n",
       "<tr>\n",
       "  <th>Date:</th>             <td>Fri, 27 Apr 2018</td> <th>  Prob (F-statistic):</th> <td>1.56e-25</td>\n",
       "</tr>\n",
       "<tr>\n",
       "  <th>Time:</th>                 <td>00:08:03</td>     <th>  Log-Likelihood:    </th> <td> -423.09</td>\n",
       "</tr>\n",
       "<tr>\n",
       "  <th>No. Observations:</th>      <td>    40</td>      <th>  AIC:               </th> <td>   850.2</td>\n",
       "</tr>\n",
       "<tr>\n",
       "  <th>Df Residuals:</th>          <td>    38</td>      <th>  BIC:               </th> <td>   853.6</td>\n",
       "</tr>\n",
       "<tr>\n",
       "  <th>Df Model:</th>              <td>     1</td>      <th>                     </th>     <td> </td>   \n",
       "</tr>\n",
       "<tr>\n",
       "  <th>Covariance Type:</th>      <td>nonrobust</td>    <th>                     </th>     <td> </td>   \n",
       "</tr>\n",
       "</table>\n",
       "<table class=\"simpletable\">\n",
       "<tr>\n",
       "    <td></td>       <th>coef</th>     <th>std err</th>      <th>t</th>      <th>P>|t|</th>  <th>[0.025</th>    <th>0.975]</th>  \n",
       "</tr>\n",
       "<tr>\n",
       "  <th>const</th> <td> 4.842e+04</td> <td> 2842.717</td> <td>   17.032</td> <td> 0.000</td> <td> 4.27e+04</td> <td> 5.42e+04</td>\n",
       "</tr>\n",
       "<tr>\n",
       "  <th>x1</th>    <td>    0.8516</td> <td>    0.033</td> <td>   25.542</td> <td> 0.000</td> <td>    0.784</td> <td>    0.919</td>\n",
       "</tr>\n",
       "</table>\n",
       "<table class=\"simpletable\">\n",
       "<tr>\n",
       "  <th>Omnibus:</th>       <td>13.132</td> <th>  Durbin-Watson:     </th> <td>   2.325</td>\n",
       "</tr>\n",
       "<tr>\n",
       "  <th>Prob(Omnibus):</th> <td> 0.001</td> <th>  Jarque-Bera (JB):  </th> <td>  16.254</td>\n",
       "</tr>\n",
       "<tr>\n",
       "  <th>Skew:</th>          <td>-0.991</td> <th>  Prob(JB):          </th> <td>0.000295</td>\n",
       "</tr>\n",
       "<tr>\n",
       "  <th>Kurtosis:</th>      <td> 5.413</td> <th>  Cond. No.          </th> <td>1.57e+05</td>\n",
       "</tr>\n",
       "</table>"
      ],
      "text/plain": [
       "<class 'statsmodels.iolib.summary.Summary'>\n",
       "\"\"\"\n",
       "                            OLS Regression Results                            \n",
       "==============================================================================\n",
       "Dep. Variable:                      y   R-squared:                       0.945\n",
       "Model:                            OLS   Adj. R-squared:                  0.944\n",
       "Method:                 Least Squares   F-statistic:                     652.4\n",
       "Date:                Fri, 27 Apr 2018   Prob (F-statistic):           1.56e-25\n",
       "Time:                        00:08:03   Log-Likelihood:                -423.09\n",
       "No. Observations:                  40   AIC:                             850.2\n",
       "Df Residuals:                      38   BIC:                             853.6\n",
       "Df Model:                           1                                         \n",
       "Covariance Type:            nonrobust                                         \n",
       "==============================================================================\n",
       "                 coef    std err          t      P>|t|      [0.025      0.975]\n",
       "------------------------------------------------------------------------------\n",
       "const       4.842e+04   2842.717     17.032      0.000    4.27e+04    5.42e+04\n",
       "x1             0.8516      0.033     25.542      0.000       0.784       0.919\n",
       "==============================================================================\n",
       "Omnibus:                       13.132   Durbin-Watson:                   2.325\n",
       "Prob(Omnibus):                  0.001   Jarque-Bera (JB):               16.254\n",
       "Skew:                          -0.991   Prob(JB):                     0.000295\n",
       "Kurtosis:                       5.413   Cond. No.                     1.57e+05\n",
       "==============================================================================\n",
       "\n",
       "Warnings:\n",
       "[1] Standard Errors assume that the covariance matrix of the errors is correctly specified.\n",
       "[2] The condition number is large, 1.57e+05. This might indicate that there are\n",
       "strong multicollinearity or other numerical problems.\n",
       "\"\"\""
      ]
     },
     "execution_count": 79,
     "metadata": {},
     "output_type": "execute_result"
    }
   ],
   "source": [
    "X_opt = X_train [:, [0, 3]] #把x2踢除\n",
    "regressor_OLS = sm.OLS(endog = y_train, exog = X_opt).fit()\n",
    "regressor_OLS.summary()"
   ]
  },
  {
   "cell_type": "markdown",
   "metadata": {},
   "source": [
    "## 結論：\n",
    "* 結果研發開支其實是影響這些公司最後收益的關鍵(行銷開支也算啦~\n",
    "* 多項式線性回歸中，參數越多不見得會比較好，可能關鍵的就只有某幾個\n",
    "* 可透過各種方法來找出最關鍵的幾個參數，也代表找到各方法下最佳的模型\n",
    "* 但沒有最好只有更好，後續會講解如何更客觀地評估一個模型的表現"
   ]
  },
  {
   "cell_type": "markdown",
   "metadata": {
    "collapsed": true
   },
   "source": [
    "## 回歸模型性能評價及選擇\n",
    "### R平方：\n",
    "* 是0~1之間的數值，值越大代表準確率越高，也就是模型越好\n",
    "* 自變量數量增加時，R平方必定會變大或是維持不定\n",
    "* 但這不是個好方法，所以就提出\"Adjusted R平方\"\n",
    "\n",
    "### Adjusted R平方：\n",
    "* 讓自變量的數量有懲戒的效果(變小)，所以自變量數量增加時，不一定讓\"Adjusted R平方\"變高或變低\n",
    "* 但是這種方法，可以更客觀地評估(不是主觀定義一個閥值)"
   ]
  },
  {
   "cell_type": "markdown",
   "metadata": {},
   "source": [
    "![adjusted_r2](adjusted_r2.png)"
   ]
  },
  {
   "cell_type": "code",
   "execution_count": null,
   "metadata": {
    "collapsed": true
   },
   "outputs": [],
   "source": [
    "\n"
   ]
  }
 ],
 "metadata": {
  "kernelspec": {
   "display_name": "Python 3",
   "language": "python",
   "name": "python3"
  },
  "language_info": {
   "codemirror_mode": {
    "name": "ipython",
    "version": 3
   },
   "file_extension": ".py",
   "mimetype": "text/x-python",
   "name": "python",
   "nbconvert_exporter": "python",
   "pygments_lexer": "ipython3",
   "version": "3.6.3"
  }
 },
 "nbformat": 4,
 "nbformat_minor": 2
}
